{
 "cells": [
  {
   "cell_type": "code",
   "execution_count": 53,
   "id": "188a338d",
   "metadata": {
    "ExecuteTime": {
     "end_time": "2022-09-03T16:18:33.149230Z",
     "start_time": "2022-09-03T16:18:33.125620Z"
    }
   },
   "outputs": [],
   "source": [
    "import numpy as np\n",
    "import pandas as pd\n",
    "from sklearn.tree import DecisionTreeClassifier\n",
    "from sklearn.linear_model import LogisticRegression\n",
    "from sklearn.model_selection import StratifiedKFold, cross_validate\n",
    "from imblearn.over_sampling import RandomOverSampler\n",
    "from imblearn.pipeline import Pipeline"
   ]
  },
  {
   "cell_type": "code",
   "execution_count": 2,
   "id": "f37669fb",
   "metadata": {
    "ExecuteTime": {
     "end_time": "2022-09-03T14:50:13.427175Z",
     "start_time": "2022-09-03T14:50:04.769993Z"
    }
   },
   "outputs": [
    {
     "data": {
      "text/html": [
       "<div>\n",
       "<style scoped>\n",
       "    .dataframe tbody tr th:only-of-type {\n",
       "        vertical-align: middle;\n",
       "    }\n",
       "\n",
       "    .dataframe tbody tr th {\n",
       "        vertical-align: top;\n",
       "    }\n",
       "\n",
       "    .dataframe thead th {\n",
       "        text-align: right;\n",
       "    }\n",
       "</style>\n",
       "<table border=\"1\" class=\"dataframe\">\n",
       "  <thead>\n",
       "    <tr style=\"text-align: right;\">\n",
       "      <th></th>\n",
       "      <th>TRANSACTION_ID</th>\n",
       "      <th>TX_DATETIME</th>\n",
       "      <th>CUSTOMER_ID</th>\n",
       "      <th>TERMINAL_ID</th>\n",
       "      <th>TX_AMOUNT</th>\n",
       "      <th>TX_TIME_SECONDS</th>\n",
       "      <th>TX_TIME_DAYS</th>\n",
       "      <th>TX_FRAUD</th>\n",
       "      <th>TX_FRAUD_SCENARIO</th>\n",
       "    </tr>\n",
       "  </thead>\n",
       "  <tbody>\n",
       "    <tr>\n",
       "      <th>0</th>\n",
       "      <td>0</td>\n",
       "      <td>2018-04-01 00:00:31</td>\n",
       "      <td>596</td>\n",
       "      <td>3156</td>\n",
       "      <td>57.16</td>\n",
       "      <td>31</td>\n",
       "      <td>0</td>\n",
       "      <td>0</td>\n",
       "      <td>0</td>\n",
       "    </tr>\n",
       "    <tr>\n",
       "      <th>1</th>\n",
       "      <td>1</td>\n",
       "      <td>2018-04-01 00:02:10</td>\n",
       "      <td>4961</td>\n",
       "      <td>3412</td>\n",
       "      <td>81.51</td>\n",
       "      <td>130</td>\n",
       "      <td>0</td>\n",
       "      <td>0</td>\n",
       "      <td>0</td>\n",
       "    </tr>\n",
       "    <tr>\n",
       "      <th>2</th>\n",
       "      <td>2</td>\n",
       "      <td>2018-04-01 00:07:56</td>\n",
       "      <td>2</td>\n",
       "      <td>1365</td>\n",
       "      <td>146.00</td>\n",
       "      <td>476</td>\n",
       "      <td>0</td>\n",
       "      <td>0</td>\n",
       "      <td>0</td>\n",
       "    </tr>\n",
       "    <tr>\n",
       "      <th>3</th>\n",
       "      <td>3</td>\n",
       "      <td>2018-04-01 00:09:29</td>\n",
       "      <td>4128</td>\n",
       "      <td>8737</td>\n",
       "      <td>64.49</td>\n",
       "      <td>569</td>\n",
       "      <td>0</td>\n",
       "      <td>0</td>\n",
       "      <td>0</td>\n",
       "    </tr>\n",
       "    <tr>\n",
       "      <th>4</th>\n",
       "      <td>4</td>\n",
       "      <td>2018-04-01 00:10:34</td>\n",
       "      <td>927</td>\n",
       "      <td>9906</td>\n",
       "      <td>50.99</td>\n",
       "      <td>634</td>\n",
       "      <td>0</td>\n",
       "      <td>0</td>\n",
       "      <td>0</td>\n",
       "    </tr>\n",
       "  </tbody>\n",
       "</table>\n",
       "</div>"
      ],
      "text/plain": [
       "   TRANSACTION_ID          TX_DATETIME  CUSTOMER_ID  TERMINAL_ID  TX_AMOUNT  \\\n",
       "0               0  2018-04-01 00:00:31          596         3156      57.16   \n",
       "1               1  2018-04-01 00:02:10         4961         3412      81.51   \n",
       "2               2  2018-04-01 00:07:56            2         1365     146.00   \n",
       "3               3  2018-04-01 00:09:29         4128         8737      64.49   \n",
       "4               4  2018-04-01 00:10:34          927         9906      50.99   \n",
       "\n",
       "   TX_TIME_SECONDS  TX_TIME_DAYS  TX_FRAUD  TX_FRAUD_SCENARIO  \n",
       "0               31             0         0                  0  \n",
       "1              130             0         0                  0  \n",
       "2              476             0         0                  0  \n",
       "3              569             0         0                  0  \n",
       "4              634             0         0                  0  "
      ]
     },
     "execution_count": 2,
     "metadata": {},
     "output_type": "execute_result"
    }
   ],
   "source": [
    "data = pd.read_csv('code_spark_and_datasets/fraud_detection.csv') \n",
    "data = data.reset_index(drop = True)\n",
    "df = data.drop('Unnamed: 0', axis = 1).copy()\n",
    "df.head()"
   ]
  },
  {
   "cell_type": "code",
   "execution_count": 3,
   "id": "7bf3f5c6",
   "metadata": {
    "ExecuteTime": {
     "end_time": "2022-09-03T14:50:14.290457Z",
     "start_time": "2022-09-03T14:50:13.436409Z"
    }
   },
   "outputs": [],
   "source": [
    "df['TX_DATETIME'] = pd.to_datetime(df['TX_DATETIME'])"
   ]
  },
  {
   "cell_type": "code",
   "execution_count": 4,
   "id": "0ca4f5f3",
   "metadata": {
    "ExecuteTime": {
     "end_time": "2022-09-03T14:50:14.639317Z",
     "start_time": "2022-09-03T14:50:14.299578Z"
    }
   },
   "outputs": [
    {
     "data": {
      "text/html": [
       "<div>\n",
       "<style scoped>\n",
       "    .dataframe tbody tr th:only-of-type {\n",
       "        vertical-align: middle;\n",
       "    }\n",
       "\n",
       "    .dataframe tbody tr th {\n",
       "        vertical-align: top;\n",
       "    }\n",
       "\n",
       "    .dataframe thead th {\n",
       "        text-align: right;\n",
       "    }\n",
       "</style>\n",
       "<table border=\"1\" class=\"dataframe\">\n",
       "  <thead>\n",
       "    <tr style=\"text-align: right;\">\n",
       "      <th></th>\n",
       "      <th>TRANSACTION_ID</th>\n",
       "      <th>TX_DATETIME</th>\n",
       "      <th>CUSTOMER_ID</th>\n",
       "      <th>TERMINAL_ID</th>\n",
       "      <th>TX_AMOUNT</th>\n",
       "      <th>TX_TIME_SECONDS</th>\n",
       "      <th>TX_TIME_DAYS</th>\n",
       "      <th>TX_FRAUD</th>\n",
       "      <th>TX_FRAUD_SCENARIO</th>\n",
       "    </tr>\n",
       "  </thead>\n",
       "  <tbody>\n",
       "    <tr>\n",
       "      <th>0</th>\n",
       "      <td>0</td>\n",
       "      <td>2018-04-01 00:00:31</td>\n",
       "      <td>596</td>\n",
       "      <td>3156</td>\n",
       "      <td>57.16</td>\n",
       "      <td>31</td>\n",
       "      <td>0</td>\n",
       "      <td>0</td>\n",
       "      <td>0</td>\n",
       "    </tr>\n",
       "    <tr>\n",
       "      <th>1</th>\n",
       "      <td>1</td>\n",
       "      <td>2018-04-01 00:02:10</td>\n",
       "      <td>4961</td>\n",
       "      <td>3412</td>\n",
       "      <td>81.51</td>\n",
       "      <td>130</td>\n",
       "      <td>0</td>\n",
       "      <td>0</td>\n",
       "      <td>0</td>\n",
       "    </tr>\n",
       "    <tr>\n",
       "      <th>2</th>\n",
       "      <td>2</td>\n",
       "      <td>2018-04-01 00:07:56</td>\n",
       "      <td>2</td>\n",
       "      <td>1365</td>\n",
       "      <td>146.00</td>\n",
       "      <td>476</td>\n",
       "      <td>0</td>\n",
       "      <td>0</td>\n",
       "      <td>0</td>\n",
       "    </tr>\n",
       "    <tr>\n",
       "      <th>3</th>\n",
       "      <td>3</td>\n",
       "      <td>2018-04-01 00:09:29</td>\n",
       "      <td>4128</td>\n",
       "      <td>8737</td>\n",
       "      <td>64.49</td>\n",
       "      <td>569</td>\n",
       "      <td>0</td>\n",
       "      <td>0</td>\n",
       "      <td>0</td>\n",
       "    </tr>\n",
       "    <tr>\n",
       "      <th>4</th>\n",
       "      <td>4</td>\n",
       "      <td>2018-04-01 00:10:34</td>\n",
       "      <td>927</td>\n",
       "      <td>9906</td>\n",
       "      <td>50.99</td>\n",
       "      <td>634</td>\n",
       "      <td>0</td>\n",
       "      <td>0</td>\n",
       "      <td>0</td>\n",
       "    </tr>\n",
       "    <tr>\n",
       "      <th>...</th>\n",
       "      <td>...</td>\n",
       "      <td>...</td>\n",
       "      <td>...</td>\n",
       "      <td>...</td>\n",
       "      <td>...</td>\n",
       "      <td>...</td>\n",
       "      <td>...</td>\n",
       "      <td>...</td>\n",
       "      <td>...</td>\n",
       "    </tr>\n",
       "    <tr>\n",
       "      <th>1763638</th>\n",
       "      <td>1754150</td>\n",
       "      <td>2018-09-30 23:56:36</td>\n",
       "      <td>161</td>\n",
       "      <td>655</td>\n",
       "      <td>54.24</td>\n",
       "      <td>15810996</td>\n",
       "      <td>182</td>\n",
       "      <td>0</td>\n",
       "      <td>0</td>\n",
       "    </tr>\n",
       "    <tr>\n",
       "      <th>1763639</th>\n",
       "      <td>1754151</td>\n",
       "      <td>2018-09-30 23:57:38</td>\n",
       "      <td>4342</td>\n",
       "      <td>6181</td>\n",
       "      <td>1.23</td>\n",
       "      <td>15811058</td>\n",
       "      <td>182</td>\n",
       "      <td>0</td>\n",
       "      <td>0</td>\n",
       "    </tr>\n",
       "    <tr>\n",
       "      <th>1763640</th>\n",
       "      <td>1754152</td>\n",
       "      <td>2018-09-30 23:58:21</td>\n",
       "      <td>618</td>\n",
       "      <td>1502</td>\n",
       "      <td>6.62</td>\n",
       "      <td>15811101</td>\n",
       "      <td>182</td>\n",
       "      <td>0</td>\n",
       "      <td>0</td>\n",
       "    </tr>\n",
       "    <tr>\n",
       "      <th>1763641</th>\n",
       "      <td>1754153</td>\n",
       "      <td>2018-09-30 23:59:52</td>\n",
       "      <td>4056</td>\n",
       "      <td>3067</td>\n",
       "      <td>55.40</td>\n",
       "      <td>15811192</td>\n",
       "      <td>182</td>\n",
       "      <td>0</td>\n",
       "      <td>0</td>\n",
       "    </tr>\n",
       "    <tr>\n",
       "      <th>1763642</th>\n",
       "      <td>1754154</td>\n",
       "      <td>2018-09-30 23:59:57</td>\n",
       "      <td>3542</td>\n",
       "      <td>9849</td>\n",
       "      <td>23.59</td>\n",
       "      <td>15811197</td>\n",
       "      <td>182</td>\n",
       "      <td>0</td>\n",
       "      <td>0</td>\n",
       "    </tr>\n",
       "  </tbody>\n",
       "</table>\n",
       "<p>1763643 rows × 9 columns</p>\n",
       "</div>"
      ],
      "text/plain": [
       "         TRANSACTION_ID         TX_DATETIME  CUSTOMER_ID  TERMINAL_ID  \\\n",
       "0                     0 2018-04-01 00:00:31          596         3156   \n",
       "1                     1 2018-04-01 00:02:10         4961         3412   \n",
       "2                     2 2018-04-01 00:07:56            2         1365   \n",
       "3                     3 2018-04-01 00:09:29         4128         8737   \n",
       "4                     4 2018-04-01 00:10:34          927         9906   \n",
       "...                 ...                 ...          ...          ...   \n",
       "1763638         1754150 2018-09-30 23:56:36          161          655   \n",
       "1763639         1754151 2018-09-30 23:57:38         4342         6181   \n",
       "1763640         1754152 2018-09-30 23:58:21          618         1502   \n",
       "1763641         1754153 2018-09-30 23:59:52         4056         3067   \n",
       "1763642         1754154 2018-09-30 23:59:57         3542         9849   \n",
       "\n",
       "         TX_AMOUNT  TX_TIME_SECONDS  TX_TIME_DAYS  TX_FRAUD  TX_FRAUD_SCENARIO  \n",
       "0            57.16               31             0         0                  0  \n",
       "1            81.51              130             0         0                  0  \n",
       "2           146.00              476             0         0                  0  \n",
       "3            64.49              569             0         0                  0  \n",
       "4            50.99              634             0         0                  0  \n",
       "...            ...              ...           ...       ...                ...  \n",
       "1763638      54.24         15810996           182         0                  0  \n",
       "1763639       1.23         15811058           182         0                  0  \n",
       "1763640       6.62         15811101           182         0                  0  \n",
       "1763641      55.40         15811192           182         0                  0  \n",
       "1763642      23.59         15811197           182         0                  0  \n",
       "\n",
       "[1763643 rows x 9 columns]"
      ]
     },
     "execution_count": 4,
     "metadata": {},
     "output_type": "execute_result"
    }
   ],
   "source": [
    "df"
   ]
  },
  {
   "cell_type": "markdown",
   "id": "c7cd943d",
   "metadata": {},
   "source": [
    "Ce que chaque ligne résume essentiellement est que, à 00:00:31, le 1er avril 2018, un client avec l'ID 596 a effectué un paiement d'une valeur de 57,19 à un commerçant avec l'ID 3156, et que la transaction n'était pas frauduleuse. Ensuite, à 00:02:10, le 1er avril 2018, un client avec l'ID 4961 a effectué un paiement d'une valeur de 81,51 à un commerçant avec l'ID 3412, et que la transaction n'était pas frauduleuse. Et ainsi de suite. L'ensemble de données simulées est une longue liste de ces transactions (1,8 million au total). La variable transaction_ID est un identifiant unique pour chaque transaction.\n",
    "\n"
   ]
  },
  {
   "cell_type": "markdown",
   "id": "4e0e56c7",
   "metadata": {},
   "source": [
    "# Ingénierie des caractéristiques\n",
    "\n",
    "L'ingénierie des caractéristiques est le processus de transformation des données brutes en caractéristiques qui représentent mieux le problème sous-jacent pour les modèles prédictifs, ce qui permet d'améliorer la précision du modèle sur des données non vues.\n",
    "\n",
    "Dans cet ensemble de données, les seules caractéristiques numériques et ordonnées sont le montant de la transaction et l'étiquette de la fraude. La date est un horodatage Panda et n'est donc pas numérique. Les identifiants des transactions, des clients et des terminaux sont numériques mais non ordonnés : il serait absurde de supposer, par exemple, que le terminal portant l'identifiant 3548 est \"plus grand\" ou \"plus gros\" que le terminal portant l'identifiant 1983. Ces identifiants représentent plutôt des \"entités\" distinctes, que l'on appelle des caractéristiques catégorielles.\n",
    "\n",
    "Il n'existe malheureusement aucune procédure standard pour traiter les caractéristiques non numériques ou catégorielles. Ce sujet est connu dans la littérature sur l'apprentissage automatique sous le nom d'ingénierie des caractéristiques ou de transformation des caractéristiques. En substance, l'objectif de l'ingénierie des caractéristiques est de concevoir de nouvelles caractéristiques qui sont supposées être pertinentes pour un problème de prédiction. La conception de ces caractéristiques dépend généralement du problème et implique une connaissance du domaine.\n",
    "\n",
    "Dans cette section, nous allons mettre en œuvre trois types de transformation de caractéristiques dont on sait qu'elles sont pertinentes pour la détection de la fraude par carte de paiement.\n"
   ]
  },
  {
   "cell_type": "markdown",
   "id": "38251b39",
   "metadata": {},
   "source": [
    "## Binary encoding or One-Hot encoding\n",
    "\n",
    "Le premier type de transformation concerne la variable date/heure, et consiste à créer des traits binaires qui caractérisent les périodes potentiellement pertinentes. Nous allons créer deux caractéristiques de ce type. La première caractérisera si une transaction a lieu pendant un jour de semaine ou pendant le week-end. La seconde caractérisera si une transaction a lieu le jour ou la nuit. Ces caractéristiques peuvent être utiles car il a été observé dans des ensembles de données du monde réel que les schémas de fraude diffèrent entre les jours de la semaine et les week-ends, et entre le jour et la nuit.\n",
    "\n",
    "### Transformations de la date et de l'heure\n",
    "\n",
    "Nous allons créer deux nouvelles caractéristiques binaires à partir des dates et heures des transactions :\n",
    "\n",
    "* La première caractérisera si une transaction a lieu pendant un jour de semaine (valeur 0) ou un week-end (1), et sera appelée `TX_DURING_WEEKEND`.\n",
    "* Le second caractérisera si une transaction a lieu pendant la journée (valeur 0) ou pendant la nuit (1). La nuit est définie comme les heures qui sont comprises entre 0h et 6h du matin. Elle sera appelée `TX_DURING_NIGHT`. \n",
    "\n",
    "Pour la fonction `TX_DURING_WEEKEND`, nous définissons une fonction `is_weekend` qui prend en entrée un timestamp Panda, et retourne 1 si la date est pendant un week-end, ou 0 sinon. L'objet timestamp fournit de manière pratique la fonction `weekday` pour aider à calculer cette valeur."
   ]
  },
  {
   "cell_type": "code",
   "execution_count": 5,
   "id": "b47d803f",
   "metadata": {
    "ExecuteTime": {
     "end_time": "2022-09-03T14:50:14.678509Z",
     "start_time": "2022-09-03T14:50:14.651632Z"
    }
   },
   "outputs": [],
   "source": [
    "def is_weekend(tx_datetime):\n",
    "    \n",
    "    # Transformer la date en jour de la semaine (0 est le lundi, 6 est le dimanche)\n",
    "    weekday = tx_datetime.weekday()\n",
    "    # Valeur binaire : 0 si jour de semaine, 1 si week-end.\n",
    "    is_weekend = weekday>=5\n",
    "    \n",
    "    return int(is_weekend)\n"
   ]
  },
  {
   "cell_type": "code",
   "execution_count": 6,
   "id": "526d57a2",
   "metadata": {
    "ExecuteTime": {
     "end_time": "2022-09-03T14:50:23.484413Z",
     "start_time": "2022-09-03T14:50:14.688445Z"
    }
   },
   "outputs": [
    {
     "name": "stdout",
     "output_type": "stream",
     "text": [
      "CPU times: user 8.44 s, sys: 274 ms, total: 8.72 s\n",
      "Wall time: 8.78 s\n"
     ]
    }
   ],
   "source": [
    "%time df['TX_DURING_WEEKEND']=df.TX_DATETIME.apply(is_weekend)"
   ]
  },
  {
   "cell_type": "code",
   "execution_count": 7,
   "id": "dcfbbaf0",
   "metadata": {
    "ExecuteTime": {
     "end_time": "2022-09-03T14:50:23.507448Z",
     "start_time": "2022-09-03T14:50:23.492022Z"
    }
   },
   "outputs": [],
   "source": [
    "def is_night(tx_datetime):\n",
    "    \n",
    "    # Obtenez l'heure de la transaction\n",
    "    tx_hour = tx_datetime.hour\n",
    "    # Valeur binaire : 1 si l'heure est inférieure à 6, et 0 sinon.\n",
    "    is_night = tx_hour<=6\n",
    "    \n",
    "    return int(is_night)"
   ]
  },
  {
   "cell_type": "code",
   "execution_count": 8,
   "id": "3bff7056",
   "metadata": {
    "ExecuteTime": {
     "end_time": "2022-09-03T14:50:33.459698Z",
     "start_time": "2022-09-03T14:50:23.521794Z"
    }
   },
   "outputs": [
    {
     "name": "stdout",
     "output_type": "stream",
     "text": [
      "CPU times: user 9.13 s, sys: 385 ms, total: 9.51 s\n",
      "Wall time: 9.91 s\n"
     ]
    }
   ],
   "source": [
    "%time df['TX_DURING_NIGHT']=df.TX_DATETIME.apply(is_night)"
   ]
  },
  {
   "cell_type": "markdown",
   "id": "9604e6b8",
   "metadata": {
    "ExecuteTime": {
     "end_time": "2022-08-29T11:37:38.374455Z",
     "start_time": "2022-08-29T11:37:38.348404Z"
    }
   },
   "source": [
    "## RFM (Recency Frequency, Monetary value)\n",
    "\n",
    "Le deuxième type de transformation concerne l'identifiant du client et consiste à créer des caractéristiques permettant d'identifier les comportements d'achat du client. Nous suivrons le cadre RFM (Recency, Frequency, Monetary value) proposé dans, et garderons la trace du montant moyen des dépenses et du nombre de transactions pour chaque client et pour trois tailles de fenêtres. Cela conduira à la création de six nouvelles fonctionnalités.\n",
    "\n",
    "### Transformations de l'identité du client\n",
    "\n",
    "Procédons maintenant aux transformations d'identifiants clients. Nous allons nous inspirer du cadre RFM (Recency, Frequency, Monetary value) et calculer deux de ces caractéristiques sur trois fenêtres de temps. La première caractéristique sera le nombre de transactions qui se produisent dans une fenêtre de temps (fréquence). La seconde sera le montant moyen dépensé dans ces transactions (valeur monétaire). Les fenêtres de temps seront fixées à un, sept et trente jours. Cela permettra de générer six nouvelles fonctionnalités. Notez que ces fenêtres temporelles pourront être optimisées ultérieurement avec les modèles à l'aide d'une procédure de sélection de modèles. \n",
    "\n",
    "Implémentons ces transformations en écrivant une fonction `get_customer_spending_behaviour_features`. Cette fonction prend en entrée l'ensemble des transactions d'un client et un ensemble de tailles de fenêtres. Elle renvoie un DataFrame avec les six nouvelles caractéristiques. Notre implémentation s'appuie sur la fonction `rolling` de Panda, qui facilite le calcul des agrégats sur une fenêtre de temps."
   ]
  },
  {
   "cell_type": "code",
   "execution_count": 9,
   "id": "e535f9ad",
   "metadata": {
    "ExecuteTime": {
     "end_time": "2022-09-03T14:50:33.511571Z",
     "start_time": "2022-09-03T14:50:33.466439Z"
    }
   },
   "outputs": [],
   "source": [
    "def get_customer_spending_behaviour_features(customer_transactions, windows_size_in_days=[1,7,30]):\n",
    "    \n",
    "    # Classons d'abord les transactions par ordre chronologique\n",
    "    customer_transactions=customer_transactions.sort_values('TX_DATETIME')\n",
    "    \n",
    "    # La date et l'heure de la transaction sont définies comme index, ce qui permet d'utiliser la fonction de roulement. \n",
    "    customer_transactions.index=customer_transactions.TX_DATETIME\n",
    "    \n",
    "    # Pour chaque taille de fenêtre\n",
    "    for window_size in windows_size_in_days:\n",
    "        \n",
    "        # Calculer la somme des montants des transactions et le nombre de transactions pour la taille de fenêtre donnée.\n",
    "        SUM_AMOUNT_TX_WINDOW=customer_transactions['TX_AMOUNT'].rolling(str(window_size)+'d').sum()\n",
    "        NB_TX_WINDOW=customer_transactions['TX_AMOUNT'].rolling(str(window_size)+'d').count()\n",
    "    \n",
    "        # Calculer le montant moyen des transactions pour la taille de la fenêtre donnée.\n",
    "        # NB_TX_WINDOW est toujours >0 car la transaction en cours est toujours incluse.\n",
    "        AVG_AMOUNT_TX_WINDOW=SUM_AMOUNT_TX_WINDOW/NB_TX_WINDOW\n",
    "    \n",
    "        # Sauvegarder les valeurs des caractéristiques\n",
    "        customer_transactions['CUSTOMER_ID_NB_TX_'+str(window_size)+'DAY_WINDOW']=list(NB_TX_WINDOW)\n",
    "        customer_transactions['CUSTOMER_ID_AVG_AMOUNT_'+str(window_size)+'DAY_WINDOW']=list(AVG_AMOUNT_TX_WINDOW)\n",
    "    \n",
    "    # Réindexation selon les ID des transactions\n",
    "    customer_transactions.index=customer_transactions.TRANSACTION_ID\n",
    "        \n",
    "    # Et retourner le dataframe avec les nouvelles caractéristiques\n",
    "    return customer_transactions\n"
   ]
  },
  {
   "cell_type": "code",
   "execution_count": 10,
   "id": "66ef8145",
   "metadata": {
    "ExecuteTime": {
     "end_time": "2022-09-03T14:52:00.559192Z",
     "start_time": "2022-09-03T14:50:33.534477Z"
    }
   },
   "outputs": [
    {
     "name": "stdout",
     "output_type": "stream",
     "text": [
      "CPU times: user 1min 22s, sys: 1.16 s, total: 1min 23s\n",
      "Wall time: 1min 25s\n"
     ]
    }
   ],
   "source": [
    "%time df=df.groupby('CUSTOMER_ID').apply(lambda x: get_customer_spending_behaviour_features(x, windows_size_in_days=[1,7,30]))\n",
    "df=df.sort_values('TX_DATETIME').reset_index(drop=True)"
   ]
  },
  {
   "cell_type": "markdown",
   "id": "70bdc401",
   "metadata": {
    "ExecuteTime": {
     "end_time": "2022-08-29T11:49:19.711068Z",
     "start_time": "2022-08-29T11:49:19.675107Z"
    }
   },
   "source": [
    "## Frequency encoding or risk encoding\n",
    "\n",
    "Le troisième type de transformation concerne l'identifiant du terminal et consiste à créer de nouveaux traits qui caractérisent le \"risque\" associé au terminal. Le risque sera défini comme le nombre moyen de fraudes qui ont été observées sur le terminal pour trois tailles de fenêtres. Cela conduira à la création de trois nouvelles caractéristiques.\n",
    "\n",
    "### Transformations de l'ID terminal\n",
    "\n",
    "Enfin, procédons aux transformations de l'ID du terminal. L'objectif principal sera d'extraire un *score de risque*, qui évalue l'exposition d'un terminal ID donné aux transactions frauduleuses. Le score de risque sera défini comme le nombre moyen de transactions frauduleuses qui ont eu lieu sur un terminal ID au cours d'une fenêtre de temps. Comme pour les transformations d'identifiants clients, nous utiliserons trois tailles de fenêtres, de 1, 7 et 30 jours.\n",
    "\n",
    "Contrairement aux transformations de l'identification du client, les fenêtres de temps ne précéderont pas directement une transaction donnée. Au lieu de cela, elles seront décalées d'une *période de retard*. Cette période de retard tient compte du fait que, dans la pratique, les transactions frauduleuses ne sont découvertes qu'après une enquête sur la fraude ou une plainte du client. Par conséquent, les étiquettes de fraude, qui sont nécessaires pour calculer le score de risque, ne sont disponibles qu'après cette période de retard. En première approximation, ce délai sera fixé à une semaine. \n",
    "\n",
    "Effectuons le calcul des scores de risque en définissant une fonction `get_count_risk_rolling_window`. La fonction prend comme entrées le DataFrame des transactions pour un ID de terminal donné, la période de retard, et une liste de tailles de fenêtres. Dans la première étape, le nombre de transactions et de transactions frauduleuses est calculé pour la période de retard (`NB_TX_DELAY` et `NB_FRAUD_DELAY`). Dans la deuxième étape, le nombre de transactions et de transactions frauduleuses est calculé pour chaque taille de fenêtre plus la période de retard (`NB_TX_DELAY_WINDOW` et `NB_FRAUD_DELAY_WINDOW`). Le nombre de transactions et de transactions frauduleuses qui se sont produites pour une taille de fenêtre donnée, décalée en arrière par la période de retard, est ensuite obtenu en calculant simplement les différences des quantités obtenues pour la période de retard, et la taille de fenêtre plus la période de retard :\n",
    "\n",
    "```\n",
    "NB_FRAUD_WINDOW=NB_FRAUD_DELAY_WINDOW-NB_FRAUD_DELAY\n",
    "NB_TX_WINDOW=NB_TX_DELAY_WINDOW-NB_TX_DELAY\n",
    "```\n",
    "\n",
    "Le score de risque est finalement obtenu en calculant la proportion de transactions frauduleuses pour chaque taille de fenêtre (ou 0 si aucune transaction n'a eu lieu pour la fenêtre donnée) :\n",
    "\n",
    "```\n",
    "RISK_WINDOW=NB_FRAUD_WINDOW/NB_TX_WINDOW\n",
    "```\n",
    "\n",
    "En plus du score de risque, la fonction renvoie également le nombre de transactions pour chaque taille de fenêtre. Cela se traduit par l'ajout de six nouvelles fonctions : Le risque et le nombre de transactions, pour trois tailles de fenêtres.\n"
   ]
  },
  {
   "cell_type": "code",
   "execution_count": 11,
   "id": "c5e1c19b",
   "metadata": {
    "ExecuteTime": {
     "end_time": "2022-09-03T14:52:00.587637Z",
     "start_time": "2022-09-03T14:52:00.563848Z"
    }
   },
   "outputs": [],
   "source": [
    "def get_count_risk_rolling_window(terminal_transactions, delay_period=7, windows_size_in_days=[1,7,30], feature=\"TERMINAL_ID\"):\n",
    "    \n",
    "    terminal_transactions=terminal_transactions.sort_values('TX_DATETIME')\n",
    "    \n",
    "    terminal_transactions.index=terminal_transactions.TX_DATETIME\n",
    "    \n",
    "    NB_FRAUD_DELAY=terminal_transactions['TX_FRAUD'].rolling(str(delay_period)+'d').sum()\n",
    "    NB_TX_DELAY=terminal_transactions['TX_FRAUD'].rolling(str(delay_period)+'d').count()\n",
    "    \n",
    "    for window_size in windows_size_in_days:\n",
    "    \n",
    "        NB_FRAUD_DELAY_WINDOW=terminal_transactions['TX_FRAUD'].rolling(str(delay_period+window_size)+'d').sum()\n",
    "        NB_TX_DELAY_WINDOW=terminal_transactions['TX_FRAUD'].rolling(str(delay_period+window_size)+'d').count()\n",
    "    \n",
    "        NB_FRAUD_WINDOW=NB_FRAUD_DELAY_WINDOW-NB_FRAUD_DELAY\n",
    "        NB_TX_WINDOW=NB_TX_DELAY_WINDOW-NB_TX_DELAY\n",
    "    \n",
    "        RISK_WINDOW=NB_FRAUD_WINDOW/NB_TX_WINDOW\n",
    "        \n",
    "        terminal_transactions[feature+'_NB_TX_'+str(window_size)+'DAY_WINDOW']=list(NB_TX_WINDOW)\n",
    "        terminal_transactions[feature+'_RISK_'+str(window_size)+'DAY_WINDOW']=list(RISK_WINDOW)\n",
    "        \n",
    "    terminal_transactions.index=terminal_transactions.TRANSACTION_ID\n",
    "    \n",
    "    # Remplacer les valeurs NA par 0 (tous les scores de risque non définis où NB_TX_WINDOW est 0) \n",
    "    terminal_transactions.fillna(0,inplace=True)\n",
    "    \n",
    "    return terminal_transactions\n"
   ]
  },
  {
   "cell_type": "code",
   "execution_count": 12,
   "id": "e01b4767",
   "metadata": {
    "ExecuteTime": {
     "end_time": "2022-09-03T14:55:19.133934Z",
     "start_time": "2022-09-03T14:52:00.594282Z"
    }
   },
   "outputs": [
    {
     "name": "stdout",
     "output_type": "stream",
     "text": [
      "CPU times: user 3min 13s, sys: 601 ms, total: 3min 14s\n",
      "Wall time: 3min 16s\n"
     ]
    }
   ],
   "source": [
    "%time df=df.groupby('TERMINAL_ID').apply(lambda x: get_count_risk_rolling_window(x, delay_period=7, windows_size_in_days=[1,7,30], feature=\"TERMINAL_ID\"))\n",
    "df=df.sort_values('TX_DATETIME').reset_index(drop=True)"
   ]
  },
  {
   "cell_type": "code",
   "execution_count": 13,
   "id": "19e5a6a8",
   "metadata": {
    "ExecuteTime": {
     "end_time": "2022-09-03T14:55:25.299636Z",
     "start_time": "2022-09-03T14:55:24.708266Z"
    },
    "scrolled": false
   },
   "outputs": [
    {
     "data": {
      "text/html": [
       "<div>\n",
       "<style scoped>\n",
       "    .dataframe tbody tr th:only-of-type {\n",
       "        vertical-align: middle;\n",
       "    }\n",
       "\n",
       "    .dataframe tbody tr th {\n",
       "        vertical-align: top;\n",
       "    }\n",
       "\n",
       "    .dataframe thead th {\n",
       "        text-align: right;\n",
       "    }\n",
       "</style>\n",
       "<table border=\"1\" class=\"dataframe\">\n",
       "  <thead>\n",
       "    <tr style=\"text-align: right;\">\n",
       "      <th></th>\n",
       "      <th>TRANSACTION_ID</th>\n",
       "      <th>TX_DATETIME</th>\n",
       "      <th>CUSTOMER_ID</th>\n",
       "      <th>TERMINAL_ID</th>\n",
       "      <th>TX_AMOUNT</th>\n",
       "      <th>TX_TIME_SECONDS</th>\n",
       "      <th>TX_TIME_DAYS</th>\n",
       "      <th>TX_FRAUD</th>\n",
       "      <th>TX_FRAUD_SCENARIO</th>\n",
       "      <th>TX_DURING_WEEKEND</th>\n",
       "      <th>...</th>\n",
       "      <th>CUSTOMER_ID_NB_TX_7DAY_WINDOW</th>\n",
       "      <th>CUSTOMER_ID_AVG_AMOUNT_7DAY_WINDOW</th>\n",
       "      <th>CUSTOMER_ID_NB_TX_30DAY_WINDOW</th>\n",
       "      <th>CUSTOMER_ID_AVG_AMOUNT_30DAY_WINDOW</th>\n",
       "      <th>TERMINAL_ID_NB_TX_1DAY_WINDOW</th>\n",
       "      <th>TERMINAL_ID_RISK_1DAY_WINDOW</th>\n",
       "      <th>TERMINAL_ID_NB_TX_7DAY_WINDOW</th>\n",
       "      <th>TERMINAL_ID_RISK_7DAY_WINDOW</th>\n",
       "      <th>TERMINAL_ID_NB_TX_30DAY_WINDOW</th>\n",
       "      <th>TERMINAL_ID_RISK_30DAY_WINDOW</th>\n",
       "    </tr>\n",
       "  </thead>\n",
       "  <tbody>\n",
       "    <tr>\n",
       "      <th>0</th>\n",
       "      <td>0</td>\n",
       "      <td>2018-04-01 00:00:31</td>\n",
       "      <td>596</td>\n",
       "      <td>3156</td>\n",
       "      <td>57.16</td>\n",
       "      <td>31</td>\n",
       "      <td>0</td>\n",
       "      <td>0</td>\n",
       "      <td>0</td>\n",
       "      <td>1</td>\n",
       "      <td>...</td>\n",
       "      <td>2.0</td>\n",
       "      <td>57.160000</td>\n",
       "      <td>2.0</td>\n",
       "      <td>57.160000</td>\n",
       "      <td>0.0</td>\n",
       "      <td>0.0</td>\n",
       "      <td>0.0</td>\n",
       "      <td>0.0</td>\n",
       "      <td>0.0</td>\n",
       "      <td>0.00000</td>\n",
       "    </tr>\n",
       "    <tr>\n",
       "      <th>1</th>\n",
       "      <td>0</td>\n",
       "      <td>2018-04-01 00:00:31</td>\n",
       "      <td>596</td>\n",
       "      <td>3156</td>\n",
       "      <td>57.16</td>\n",
       "      <td>31</td>\n",
       "      <td>0</td>\n",
       "      <td>0</td>\n",
       "      <td>0</td>\n",
       "      <td>1</td>\n",
       "      <td>...</td>\n",
       "      <td>1.0</td>\n",
       "      <td>57.160000</td>\n",
       "      <td>1.0</td>\n",
       "      <td>57.160000</td>\n",
       "      <td>0.0</td>\n",
       "      <td>0.0</td>\n",
       "      <td>0.0</td>\n",
       "      <td>0.0</td>\n",
       "      <td>0.0</td>\n",
       "      <td>0.00000</td>\n",
       "    </tr>\n",
       "    <tr>\n",
       "      <th>2</th>\n",
       "      <td>1</td>\n",
       "      <td>2018-04-01 00:02:10</td>\n",
       "      <td>4961</td>\n",
       "      <td>3412</td>\n",
       "      <td>81.51</td>\n",
       "      <td>130</td>\n",
       "      <td>0</td>\n",
       "      <td>0</td>\n",
       "      <td>0</td>\n",
       "      <td>1</td>\n",
       "      <td>...</td>\n",
       "      <td>1.0</td>\n",
       "      <td>81.510000</td>\n",
       "      <td>1.0</td>\n",
       "      <td>81.510000</td>\n",
       "      <td>0.0</td>\n",
       "      <td>0.0</td>\n",
       "      <td>0.0</td>\n",
       "      <td>0.0</td>\n",
       "      <td>0.0</td>\n",
       "      <td>0.00000</td>\n",
       "    </tr>\n",
       "    <tr>\n",
       "      <th>3</th>\n",
       "      <td>1</td>\n",
       "      <td>2018-04-01 00:02:10</td>\n",
       "      <td>4961</td>\n",
       "      <td>3412</td>\n",
       "      <td>81.51</td>\n",
       "      <td>130</td>\n",
       "      <td>0</td>\n",
       "      <td>0</td>\n",
       "      <td>0</td>\n",
       "      <td>1</td>\n",
       "      <td>...</td>\n",
       "      <td>2.0</td>\n",
       "      <td>81.510000</td>\n",
       "      <td>2.0</td>\n",
       "      <td>81.510000</td>\n",
       "      <td>0.0</td>\n",
       "      <td>0.0</td>\n",
       "      <td>0.0</td>\n",
       "      <td>0.0</td>\n",
       "      <td>0.0</td>\n",
       "      <td>0.00000</td>\n",
       "    </tr>\n",
       "    <tr>\n",
       "      <th>4</th>\n",
       "      <td>2</td>\n",
       "      <td>2018-04-01 00:07:56</td>\n",
       "      <td>2</td>\n",
       "      <td>1365</td>\n",
       "      <td>146.00</td>\n",
       "      <td>476</td>\n",
       "      <td>0</td>\n",
       "      <td>0</td>\n",
       "      <td>0</td>\n",
       "      <td>1</td>\n",
       "      <td>...</td>\n",
       "      <td>1.0</td>\n",
       "      <td>146.000000</td>\n",
       "      <td>1.0</td>\n",
       "      <td>146.000000</td>\n",
       "      <td>0.0</td>\n",
       "      <td>0.0</td>\n",
       "      <td>0.0</td>\n",
       "      <td>0.0</td>\n",
       "      <td>0.0</td>\n",
       "      <td>0.00000</td>\n",
       "    </tr>\n",
       "    <tr>\n",
       "      <th>...</th>\n",
       "      <td>...</td>\n",
       "      <td>...</td>\n",
       "      <td>...</td>\n",
       "      <td>...</td>\n",
       "      <td>...</td>\n",
       "      <td>...</td>\n",
       "      <td>...</td>\n",
       "      <td>...</td>\n",
       "      <td>...</td>\n",
       "      <td>...</td>\n",
       "      <td>...</td>\n",
       "      <td>...</td>\n",
       "      <td>...</td>\n",
       "      <td>...</td>\n",
       "      <td>...</td>\n",
       "      <td>...</td>\n",
       "      <td>...</td>\n",
       "      <td>...</td>\n",
       "      <td>...</td>\n",
       "      <td>...</td>\n",
       "      <td>...</td>\n",
       "    </tr>\n",
       "    <tr>\n",
       "      <th>1763638</th>\n",
       "      <td>1754150</td>\n",
       "      <td>2018-09-30 23:56:36</td>\n",
       "      <td>161</td>\n",
       "      <td>655</td>\n",
       "      <td>54.24</td>\n",
       "      <td>15810996</td>\n",
       "      <td>182</td>\n",
       "      <td>0</td>\n",
       "      <td>0</td>\n",
       "      <td>1</td>\n",
       "      <td>...</td>\n",
       "      <td>12.0</td>\n",
       "      <td>67.047500</td>\n",
       "      <td>72.0</td>\n",
       "      <td>69.521111</td>\n",
       "      <td>1.0</td>\n",
       "      <td>0.0</td>\n",
       "      <td>4.0</td>\n",
       "      <td>0.0</td>\n",
       "      <td>28.0</td>\n",
       "      <td>0.00000</td>\n",
       "    </tr>\n",
       "    <tr>\n",
       "      <th>1763639</th>\n",
       "      <td>1754151</td>\n",
       "      <td>2018-09-30 23:57:38</td>\n",
       "      <td>4342</td>\n",
       "      <td>6181</td>\n",
       "      <td>1.23</td>\n",
       "      <td>15811058</td>\n",
       "      <td>182</td>\n",
       "      <td>0</td>\n",
       "      <td>0</td>\n",
       "      <td>1</td>\n",
       "      <td>...</td>\n",
       "      <td>21.0</td>\n",
       "      <td>22.173810</td>\n",
       "      <td>93.0</td>\n",
       "      <td>24.780753</td>\n",
       "      <td>1.0</td>\n",
       "      <td>0.0</td>\n",
       "      <td>9.0</td>\n",
       "      <td>0.0</td>\n",
       "      <td>39.0</td>\n",
       "      <td>0.00000</td>\n",
       "    </tr>\n",
       "    <tr>\n",
       "      <th>1763640</th>\n",
       "      <td>1754152</td>\n",
       "      <td>2018-09-30 23:58:21</td>\n",
       "      <td>618</td>\n",
       "      <td>1502</td>\n",
       "      <td>6.62</td>\n",
       "      <td>15811101</td>\n",
       "      <td>182</td>\n",
       "      <td>0</td>\n",
       "      <td>0</td>\n",
       "      <td>1</td>\n",
       "      <td>...</td>\n",
       "      <td>21.0</td>\n",
       "      <td>7.400476</td>\n",
       "      <td>65.0</td>\n",
       "      <td>7.864462</td>\n",
       "      <td>1.0</td>\n",
       "      <td>0.0</td>\n",
       "      <td>5.0</td>\n",
       "      <td>0.0</td>\n",
       "      <td>33.0</td>\n",
       "      <td>0.00000</td>\n",
       "    </tr>\n",
       "    <tr>\n",
       "      <th>1763641</th>\n",
       "      <td>1754153</td>\n",
       "      <td>2018-09-30 23:59:52</td>\n",
       "      <td>4056</td>\n",
       "      <td>3067</td>\n",
       "      <td>55.40</td>\n",
       "      <td>15811192</td>\n",
       "      <td>182</td>\n",
       "      <td>0</td>\n",
       "      <td>0</td>\n",
       "      <td>1</td>\n",
       "      <td>...</td>\n",
       "      <td>16.0</td>\n",
       "      <td>107.052500</td>\n",
       "      <td>51.0</td>\n",
       "      <td>102.919608</td>\n",
       "      <td>1.0</td>\n",
       "      <td>0.0</td>\n",
       "      <td>6.0</td>\n",
       "      <td>0.0</td>\n",
       "      <td>28.0</td>\n",
       "      <td>0.00000</td>\n",
       "    </tr>\n",
       "    <tr>\n",
       "      <th>1763642</th>\n",
       "      <td>1754154</td>\n",
       "      <td>2018-09-30 23:59:57</td>\n",
       "      <td>3542</td>\n",
       "      <td>9849</td>\n",
       "      <td>23.59</td>\n",
       "      <td>15811197</td>\n",
       "      <td>182</td>\n",
       "      <td>0</td>\n",
       "      <td>0</td>\n",
       "      <td>1</td>\n",
       "      <td>...</td>\n",
       "      <td>24.0</td>\n",
       "      <td>35.308333</td>\n",
       "      <td>119.0</td>\n",
       "      <td>37.251513</td>\n",
       "      <td>1.0</td>\n",
       "      <td>0.0</td>\n",
       "      <td>12.0</td>\n",
       "      <td>0.0</td>\n",
       "      <td>41.0</td>\n",
       "      <td>0.02439</td>\n",
       "    </tr>\n",
       "  </tbody>\n",
       "</table>\n",
       "<p>1763643 rows × 23 columns</p>\n",
       "</div>"
      ],
      "text/plain": [
       "         TRANSACTION_ID         TX_DATETIME  CUSTOMER_ID  TERMINAL_ID  \\\n",
       "0                     0 2018-04-01 00:00:31          596         3156   \n",
       "1                     0 2018-04-01 00:00:31          596         3156   \n",
       "2                     1 2018-04-01 00:02:10         4961         3412   \n",
       "3                     1 2018-04-01 00:02:10         4961         3412   \n",
       "4                     2 2018-04-01 00:07:56            2         1365   \n",
       "...                 ...                 ...          ...          ...   \n",
       "1763638         1754150 2018-09-30 23:56:36          161          655   \n",
       "1763639         1754151 2018-09-30 23:57:38         4342         6181   \n",
       "1763640         1754152 2018-09-30 23:58:21          618         1502   \n",
       "1763641         1754153 2018-09-30 23:59:52         4056         3067   \n",
       "1763642         1754154 2018-09-30 23:59:57         3542         9849   \n",
       "\n",
       "         TX_AMOUNT  TX_TIME_SECONDS  TX_TIME_DAYS  TX_FRAUD  \\\n",
       "0            57.16               31             0         0   \n",
       "1            57.16               31             0         0   \n",
       "2            81.51              130             0         0   \n",
       "3            81.51              130             0         0   \n",
       "4           146.00              476             0         0   \n",
       "...            ...              ...           ...       ...   \n",
       "1763638      54.24         15810996           182         0   \n",
       "1763639       1.23         15811058           182         0   \n",
       "1763640       6.62         15811101           182         0   \n",
       "1763641      55.40         15811192           182         0   \n",
       "1763642      23.59         15811197           182         0   \n",
       "\n",
       "         TX_FRAUD_SCENARIO  TX_DURING_WEEKEND  ...  \\\n",
       "0                        0                  1  ...   \n",
       "1                        0                  1  ...   \n",
       "2                        0                  1  ...   \n",
       "3                        0                  1  ...   \n",
       "4                        0                  1  ...   \n",
       "...                    ...                ...  ...   \n",
       "1763638                  0                  1  ...   \n",
       "1763639                  0                  1  ...   \n",
       "1763640                  0                  1  ...   \n",
       "1763641                  0                  1  ...   \n",
       "1763642                  0                  1  ...   \n",
       "\n",
       "         CUSTOMER_ID_NB_TX_7DAY_WINDOW  CUSTOMER_ID_AVG_AMOUNT_7DAY_WINDOW  \\\n",
       "0                                  2.0                           57.160000   \n",
       "1                                  1.0                           57.160000   \n",
       "2                                  1.0                           81.510000   \n",
       "3                                  2.0                           81.510000   \n",
       "4                                  1.0                          146.000000   \n",
       "...                                ...                                 ...   \n",
       "1763638                           12.0                           67.047500   \n",
       "1763639                           21.0                           22.173810   \n",
       "1763640                           21.0                            7.400476   \n",
       "1763641                           16.0                          107.052500   \n",
       "1763642                           24.0                           35.308333   \n",
       "\n",
       "         CUSTOMER_ID_NB_TX_30DAY_WINDOW  CUSTOMER_ID_AVG_AMOUNT_30DAY_WINDOW  \\\n",
       "0                                   2.0                            57.160000   \n",
       "1                                   1.0                            57.160000   \n",
       "2                                   1.0                            81.510000   \n",
       "3                                   2.0                            81.510000   \n",
       "4                                   1.0                           146.000000   \n",
       "...                                 ...                                  ...   \n",
       "1763638                            72.0                            69.521111   \n",
       "1763639                            93.0                            24.780753   \n",
       "1763640                            65.0                             7.864462   \n",
       "1763641                            51.0                           102.919608   \n",
       "1763642                           119.0                            37.251513   \n",
       "\n",
       "         TERMINAL_ID_NB_TX_1DAY_WINDOW  TERMINAL_ID_RISK_1DAY_WINDOW  \\\n",
       "0                                  0.0                           0.0   \n",
       "1                                  0.0                           0.0   \n",
       "2                                  0.0                           0.0   \n",
       "3                                  0.0                           0.0   \n",
       "4                                  0.0                           0.0   \n",
       "...                                ...                           ...   \n",
       "1763638                            1.0                           0.0   \n",
       "1763639                            1.0                           0.0   \n",
       "1763640                            1.0                           0.0   \n",
       "1763641                            1.0                           0.0   \n",
       "1763642                            1.0                           0.0   \n",
       "\n",
       "         TERMINAL_ID_NB_TX_7DAY_WINDOW  TERMINAL_ID_RISK_7DAY_WINDOW  \\\n",
       "0                                  0.0                           0.0   \n",
       "1                                  0.0                           0.0   \n",
       "2                                  0.0                           0.0   \n",
       "3                                  0.0                           0.0   \n",
       "4                                  0.0                           0.0   \n",
       "...                                ...                           ...   \n",
       "1763638                            4.0                           0.0   \n",
       "1763639                            9.0                           0.0   \n",
       "1763640                            5.0                           0.0   \n",
       "1763641                            6.0                           0.0   \n",
       "1763642                           12.0                           0.0   \n",
       "\n",
       "         TERMINAL_ID_NB_TX_30DAY_WINDOW  TERMINAL_ID_RISK_30DAY_WINDOW  \n",
       "0                                   0.0                        0.00000  \n",
       "1                                   0.0                        0.00000  \n",
       "2                                   0.0                        0.00000  \n",
       "3                                   0.0                        0.00000  \n",
       "4                                   0.0                        0.00000  \n",
       "...                                 ...                            ...  \n",
       "1763638                            28.0                        0.00000  \n",
       "1763639                            39.0                        0.00000  \n",
       "1763640                            33.0                        0.00000  \n",
       "1763641                            28.0                        0.00000  \n",
       "1763642                            41.0                        0.02439  \n",
       "\n",
       "[1763643 rows x 23 columns]"
      ]
     },
     "execution_count": 13,
     "metadata": {},
     "output_type": "execute_result"
    }
   ],
   "source": [
    "df"
   ]
  },
  {
   "cell_type": "markdown",
   "id": "7783cecc",
   "metadata": {},
   "source": [
    "Pourcentage des transaction froduleuse de la base de données"
   ]
  },
  {
   "cell_type": "code",
   "execution_count": 26,
   "id": "176b246f",
   "metadata": {
    "ExecuteTime": {
     "end_time": "2022-09-03T15:37:01.154606Z",
     "start_time": "2022-09-03T15:37:01.075425Z"
    }
   },
   "outputs": [
    {
     "data": {
      "text/plain": [
       "0    99.167405\n",
       "1     0.832595\n",
       "Name: TX_FRAUD, dtype: float64"
      ]
     },
     "execution_count": 26,
     "metadata": {},
     "output_type": "execute_result"
    }
   ],
   "source": [
    "(df['TX_FRAUD'].value_counts()/df.shape[0])*100"
   ]
  },
  {
   "cell_type": "code",
   "execution_count": 15,
   "id": "c678a357",
   "metadata": {
    "ExecuteTime": {
     "end_time": "2022-09-03T15:25:51.964667Z",
     "start_time": "2022-09-03T15:25:51.934199Z"
    }
   },
   "outputs": [
    {
     "data": {
      "text/plain": [
       "Index(['TRANSACTION_ID', 'TX_DATETIME', 'CUSTOMER_ID', 'TERMINAL_ID',\n",
       "       'TX_AMOUNT', 'TX_TIME_SECONDS', 'TX_TIME_DAYS', 'TX_FRAUD',\n",
       "       'TX_FRAUD_SCENARIO', 'TX_DURING_WEEKEND', 'TX_DURING_NIGHT',\n",
       "       'CUSTOMER_ID_NB_TX_1DAY_WINDOW', 'CUSTOMER_ID_AVG_AMOUNT_1DAY_WINDOW',\n",
       "       'CUSTOMER_ID_NB_TX_7DAY_WINDOW', 'CUSTOMER_ID_AVG_AMOUNT_7DAY_WINDOW',\n",
       "       'CUSTOMER_ID_NB_TX_30DAY_WINDOW', 'CUSTOMER_ID_AVG_AMOUNT_30DAY_WINDOW',\n",
       "       'TERMINAL_ID_NB_TX_1DAY_WINDOW', 'TERMINAL_ID_RISK_1DAY_WINDOW',\n",
       "       'TERMINAL_ID_NB_TX_7DAY_WINDOW', 'TERMINAL_ID_RISK_7DAY_WINDOW',\n",
       "       'TERMINAL_ID_NB_TX_30DAY_WINDOW', 'TERMINAL_ID_RISK_30DAY_WINDOW'],\n",
       "      dtype='object')"
      ]
     },
     "execution_count": 15,
     "metadata": {},
     "output_type": "execute_result"
    }
   ],
   "source": [
    "df.columns"
   ]
  },
  {
   "cell_type": "code",
   "execution_count": 50,
   "id": "16b90e19",
   "metadata": {
    "ExecuteTime": {
     "end_time": "2022-09-03T16:17:42.791234Z",
     "start_time": "2022-09-03T16:17:42.615487Z"
    }
   },
   "outputs": [],
   "source": [
    "X = df.drop(['TRANSACTION_ID', 'TX_DATETIME', \n",
    " 'CUSTOMER_ID', 'TERMINAL_ID', \n",
    " 'TX_TIME_SECONDS', 'TX_TIME_DAYS', \n",
    " 'TX_TIME_DAYS', 'TX_FRAUD', 'TX_FRAUD_SCENARIO'], axis =1)\n",
    "\n",
    "y = df['TX_FRAUD']"
   ]
  },
  {
   "cell_type": "markdown",
   "id": "6ee7c05b",
   "metadata": {},
   "source": [
    "# Creation de modèle\n"
   ]
  },
  {
   "cell_type": "markdown",
   "id": "3922d039",
   "metadata": {},
   "source": [
    "fonction"
   ]
  },
  {
   "cell_type": "code",
   "execution_count": 32,
   "id": "27c4feb0",
   "metadata": {
    "ExecuteTime": {
     "end_time": "2022-09-03T15:50:23.611677Z",
     "start_time": "2022-09-03T15:50:23.557355Z"
    }
   },
   "outputs": [],
   "source": [
    "def kfold_cv_with_classifier(classifier,\n",
    "                             X,\n",
    "                             y,\n",
    "                             n_splits=5,\n",
    "                             strategy_name=\"Basline classifier\"):\n",
    "    \n",
    "    \n",
    "    cv = StratifiedKFold(n_splits=5, shuffle=True, random_state=0)\n",
    "    cv_results_ = cross_validate(classifier, X, y, cv=cv,\n",
    "                                                    scoring=['roc_auc',\n",
    "                                                            'average_precision',\n",
    "                                                            'balanced_accuracy'],\n",
    "                                                    return_estimator=True)\n",
    "    results = round(pd.DataFrame(cv_results_),3)\n",
    "    results_mean = list(results.mean().values)\n",
    "    results_std = list(results.std().values)\n",
    "    results_df = pd.DataFrame([[str(round(results_mean[i],3))+'+/-'+\n",
    "                                str(round(results_std[i],3)) for i in range(len(results))]],\n",
    "                              columns=['Fit time (s)','Score time (s)',\n",
    "                                       'AUC ROC','Average Precision','Balanced accuracy'])\n",
    "    results_df.rename(index={0:strategy_name}, inplace=True)\n",
    "\n",
    "\n",
    "    return results_df"
   ]
  },
  {
   "cell_type": "code",
   "execution_count": 33,
   "id": "0a3be51a",
   "metadata": {
    "ExecuteTime": {
     "end_time": "2022-09-03T15:54:21.146209Z",
     "start_time": "2022-09-03T15:53:00.873979Z"
    }
   },
   "outputs": [
    {
     "name": "stderr",
     "output_type": "stream",
     "text": [
      "/tmp/ipykernel_7046/355113265.py:15: FutureWarning: Dropping of nuisance columns in DataFrame reductions (with 'numeric_only=None') is deprecated; in a future version this will raise TypeError.  Select only valid columns before calling the reduction.\n",
      "  results_mean = list(results.mean().values)\n",
      "/tmp/ipykernel_7046/355113265.py:16: FutureWarning: Dropping of nuisance columns in DataFrame reductions (with 'numeric_only=None') is deprecated; in a future version this will raise TypeError.  Select only valid columns before calling the reduction.\n",
      "  results_std = list(results.std().values)\n"
     ]
    }
   ],
   "source": [
    "classifier = DecisionTreeClassifier(max_depth=5, random_state=0)\n",
    "\n",
    "results_df_dt_baseline = kfold_cv_with_classifier(classifier, X, y, n_splits=5, \n",
    "                                                         strategy_name=\"Decision tree - Baseline\")"
   ]
  },
  {
   "cell_type": "code",
   "execution_count": 34,
   "id": "ff1ed450",
   "metadata": {
    "ExecuteTime": {
     "end_time": "2022-09-03T15:54:21.201053Z",
     "start_time": "2022-09-03T15:54:21.158784Z"
    }
   },
   "outputs": [
    {
     "data": {
      "text/html": [
       "<div>\n",
       "<style scoped>\n",
       "    .dataframe tbody tr th:only-of-type {\n",
       "        vertical-align: middle;\n",
       "    }\n",
       "\n",
       "    .dataframe tbody tr th {\n",
       "        vertical-align: top;\n",
       "    }\n",
       "\n",
       "    .dataframe thead th {\n",
       "        text-align: right;\n",
       "    }\n",
       "</style>\n",
       "<table border=\"1\" class=\"dataframe\">\n",
       "  <thead>\n",
       "    <tr style=\"text-align: right;\">\n",
       "      <th></th>\n",
       "      <th>Fit time (s)</th>\n",
       "      <th>Score time (s)</th>\n",
       "      <th>AUC ROC</th>\n",
       "      <th>Average Precision</th>\n",
       "      <th>Balanced accuracy</th>\n",
       "    </tr>\n",
       "  </thead>\n",
       "  <tbody>\n",
       "    <tr>\n",
       "      <th>Decision tree - Baseline</th>\n",
       "      <td>15.454+/-1.765</td>\n",
       "      <td>0.479+/-0.09</td>\n",
       "      <td>0.828+/-0.003</td>\n",
       "      <td>0.639+/-0.008</td>\n",
       "      <td>0.79+/-0.004</td>\n",
       "    </tr>\n",
       "  </tbody>\n",
       "</table>\n",
       "</div>"
      ],
      "text/plain": [
       "                            Fit time (s) Score time (s)        AUC ROC  \\\n",
       "Decision tree - Baseline  15.454+/-1.765   0.479+/-0.09  0.828+/-0.003   \n",
       "\n",
       "                         Average Precision Balanced accuracy  \n",
       "Decision tree - Baseline     0.639+/-0.008      0.79+/-0.004  "
      ]
     },
     "execution_count": 34,
     "metadata": {},
     "output_type": "execute_result"
    }
   ],
   "source": [
    "results_df_dt_baseline"
   ]
  },
  {
   "cell_type": "markdown",
   "id": "f2b9325c",
   "metadata": {},
   "source": [
    "## Cost-sensitive learning\n",
    "\n",
    "L'apprentissage sensible aux coûts est un sous-domaine de l'apprentissage automatique qui traite des problèmes de classification où les coûts de mauvaise classification ne sont pas égaux. Ils sont souvent liés au problème du déséquilibre des classes puisque dans la plupart de ces problèmes, l'objectif est de détecter des événements qui sont rares. Les ensembles de données d'apprentissage contiennent donc généralement moins d'exemples de l'événement d'intérêt.\n",
    "\n",
    "### la matrice des coûts\n",
    "\n",
    "Dans la section précédente, nous avons indiqué que la matrice des coûts était la méthode standard pour quantifier les coûts des erreurs de classification. En désignant par ***C*** la matrice des coûts, ses entrées ***C(i,j)*** quantifient le coût de la prédiction de la classe lorsque la vraie classe est . Pour un problème de classification binaire, la matrice des coûts est une matrice ***(2, 2)***.\n",
    "\n",
    "Les classifications correctes ont un coût de zéro, c'est-à-dire ***C00 = C11 = 0***. Les coûts des classifications erronées sont toutefois difficiles à estimer dans la pratique. Le fait de rater une transaction frauduleuse (faux négatif) entraîne une perte directement liée au montant de la transaction, mais aussi à d'autres utilisations frauduleuses de la carte et à la réputation de l'entreprise. Dans le même temps, le blocage de transactions légitimes (faux positifs) entraîne des désagréments pour les clients, génère des coûts d'investigation inutiles et nuit également à la réputation de l'entreprise.\n",
    "\n",
    "Dans les problèmes de déséquilibre sensibles aux coûts, l'approche heuristique la plus populaire pour estimer les coûts consiste à utiliser le ratio de déséquilibre (IR). Désignons par ***X*** l'ensemble de données déséquilibré, ***X0*** et ***X1*** étant les sous-ensembles d'échantillons appartenant respectivement à la classe majoritaire et à la classe minoritaire. L'IR de l'ensemble de données ***X*** est défini comme suit :\n",
    "\n",
    "    -IR=|X1|/|X0|\n",
    "    \n",
    "où **|.|** désigne la cardinalité d'un ensemble.\n",
    "\n",
    "L'utilisation de l'IR pour définir les coûts de mauvaise classification est généralement une bonne heuristique. Elle présente cependant certaines limites, notamment en ce qui concerne les échantillons de petite taille, le chevauchement des classes et les instances bruyantes ou limites. Une pratique complémentaire courante consiste à considérer les coûts de mauvaise classification comme un hyperparamètre à identifier par la sélection de modèles.\n",
    "\n",
    "Python sklearn fournit un support pour l'apprentissage sensible aux coûts pour la plupart des classificateurs de base grâce au paramètre **class_weight**. Ce paramètre permet de spécifier les coûts de trois manières différentes :\n",
    "\n",
    "- Aucun : Les coûts des mauvaises classifications sont fixés à 1 (par défaut)\n",
    "\n",
    "- équilibré : Les coûts sont fixés en fonction du ratio de déséquilibre.\n",
    "\n",
    "- {0:c10, 1:c01} : Les coûts des erreurs de classification sont explicitement définis pour les deux classes au moyen d'un dictionnaire.\n",
    "\n",
    "L'utilisation de poids de classe implique généralement une modification de la fonction de perte de l'algorithme d'apprentissage. La modification dépend du type d'algorithme. En pénalisant fortement les erreurs sur la classe minoritaire, l'apprentissage sensible aux coûts améliore leur importance pendant l'étape d'apprentissage du classificateur. Cela éloigne la frontière de décision de ces instances, ce qui permet d'améliorer la généralisation sur la classe minoritaire.\n"
   ]
  },
  {
   "cell_type": "code",
   "execution_count": 36,
   "id": "41ae7294",
   "metadata": {
    "ExecuteTime": {
     "end_time": "2022-09-03T15:57:15.874540Z",
     "start_time": "2022-09-03T15:57:15.769770Z"
    }
   },
   "outputs": [],
   "source": [
    "IR= (df['TX_FRAUD'].value_counts()/df.shape[0])[1]/(df['TX_FRAUD'].value_counts()/df.shape[0])[0]\n",
    "class_weight={0:IR,1:1}\n"
   ]
  },
  {
   "cell_type": "code",
   "execution_count": 37,
   "id": "43d7f479",
   "metadata": {
    "ExecuteTime": {
     "end_time": "2022-09-03T15:57:17.395374Z",
     "start_time": "2022-09-03T15:57:17.383480Z"
    }
   },
   "outputs": [],
   "source": [
    "classifier = DecisionTreeClassifier(max_depth=5,class_weight=class_weight,random_state=0)"
   ]
  },
  {
   "cell_type": "code",
   "execution_count": 38,
   "id": "02a1b4fb",
   "metadata": {
    "ExecuteTime": {
     "end_time": "2022-09-03T15:58:57.205555Z",
     "start_time": "2022-09-03T15:57:18.348256Z"
    }
   },
   "outputs": [
    {
     "name": "stderr",
     "output_type": "stream",
     "text": [
      "/tmp/ipykernel_7046/355113265.py:15: FutureWarning: Dropping of nuisance columns in DataFrame reductions (with 'numeric_only=None') is deprecated; in a future version this will raise TypeError.  Select only valid columns before calling the reduction.\n",
      "  results_mean = list(results.mean().values)\n",
      "/tmp/ipykernel_7046/355113265.py:16: FutureWarning: Dropping of nuisance columns in DataFrame reductions (with 'numeric_only=None') is deprecated; in a future version this will raise TypeError.  Select only valid columns before calling the reduction.\n",
      "  results_std = list(results.std().values)\n"
     ]
    }
   ],
   "source": [
    "results_df_dt_cost_sensitive =  kfold_cv_with_classifier(classifier, X, y, n_splits=5, \n",
    "                                                         strategy_name=\"Decision tree - Cost-sensitive\")"
   ]
  },
  {
   "cell_type": "code",
   "execution_count": 39,
   "id": "9b00e9ed",
   "metadata": {
    "ExecuteTime": {
     "end_time": "2022-09-03T15:58:57.268212Z",
     "start_time": "2022-09-03T15:58:57.215533Z"
    },
    "scrolled": true
   },
   "outputs": [
    {
     "data": {
      "text/html": [
       "<div>\n",
       "<style scoped>\n",
       "    .dataframe tbody tr th:only-of-type {\n",
       "        vertical-align: middle;\n",
       "    }\n",
       "\n",
       "    .dataframe tbody tr th {\n",
       "        vertical-align: top;\n",
       "    }\n",
       "\n",
       "    .dataframe thead th {\n",
       "        text-align: right;\n",
       "    }\n",
       "</style>\n",
       "<table border=\"1\" class=\"dataframe\">\n",
       "  <thead>\n",
       "    <tr style=\"text-align: right;\">\n",
       "      <th></th>\n",
       "      <th>Fit time (s)</th>\n",
       "      <th>Score time (s)</th>\n",
       "      <th>AUC ROC</th>\n",
       "      <th>Average Precision</th>\n",
       "      <th>Balanced accuracy</th>\n",
       "    </tr>\n",
       "  </thead>\n",
       "  <tbody>\n",
       "    <tr>\n",
       "      <th>Decision tree - Baseline</th>\n",
       "      <td>15.454+/-1.765</td>\n",
       "      <td>0.479+/-0.09</td>\n",
       "      <td>0.828+/-0.003</td>\n",
       "      <td>0.639+/-0.008</td>\n",
       "      <td>0.79+/-0.004</td>\n",
       "    </tr>\n",
       "    <tr>\n",
       "      <th>Decision tree - Cost-sensitive</th>\n",
       "      <td>19.026+/-3.016</td>\n",
       "      <td>0.605+/-0.062</td>\n",
       "      <td>0.869+/-0.007</td>\n",
       "      <td>0.636+/-0.011</td>\n",
       "      <td>0.853+/-0.01</td>\n",
       "    </tr>\n",
       "  </tbody>\n",
       "</table>\n",
       "</div>"
      ],
      "text/plain": [
       "                                  Fit time (s) Score time (s)        AUC ROC  \\\n",
       "Decision tree - Baseline        15.454+/-1.765   0.479+/-0.09  0.828+/-0.003   \n",
       "Decision tree - Cost-sensitive  19.026+/-3.016  0.605+/-0.062  0.869+/-0.007   \n",
       "\n",
       "                               Average Precision Balanced accuracy  \n",
       "Decision tree - Baseline           0.639+/-0.008      0.79+/-0.004  \n",
       "Decision tree - Cost-sensitive     0.636+/-0.011      0.853+/-0.01  "
      ]
     },
     "execution_count": 39,
     "metadata": {},
     "output_type": "execute_result"
    }
   ],
   "source": [
    "pd.concat([results_df_dt_baseline, \n",
    "           results_df_dt_cost_sensitive])"
   ]
  },
  {
   "cell_type": "markdown",
   "id": "2f1eab93",
   "metadata": {},
   "source": [
    "### LogisticRegression"
   ]
  },
  {
   "cell_type": "code",
   "execution_count": 42,
   "id": "326fcff2",
   "metadata": {
    "ExecuteTime": {
     "end_time": "2022-09-03T16:05:55.568360Z",
     "start_time": "2022-09-03T16:02:43.664791Z"
    }
   },
   "outputs": [
    {
     "name": "stderr",
     "output_type": "stream",
     "text": [
      "/home/omar/Python-3.8.0/jupyter_env/lib/python3.8/site-packages/sklearn/linear_model/_logistic.py:444: ConvergenceWarning: lbfgs failed to converge (status=1):\n",
      "STOP: TOTAL NO. of ITERATIONS REACHED LIMIT.\n",
      "\n",
      "Increase the number of iterations (max_iter) or scale the data as shown in:\n",
      "    https://scikit-learn.org/stable/modules/preprocessing.html\n",
      "Please also refer to the documentation for alternative solver options:\n",
      "    https://scikit-learn.org/stable/modules/linear_model.html#logistic-regression\n",
      "  n_iter_i = _check_optimize_result(\n",
      "/home/omar/Python-3.8.0/jupyter_env/lib/python3.8/site-packages/sklearn/linear_model/_logistic.py:444: ConvergenceWarning: lbfgs failed to converge (status=1):\n",
      "STOP: TOTAL NO. of ITERATIONS REACHED LIMIT.\n",
      "\n",
      "Increase the number of iterations (max_iter) or scale the data as shown in:\n",
      "    https://scikit-learn.org/stable/modules/preprocessing.html\n",
      "Please also refer to the documentation for alternative solver options:\n",
      "    https://scikit-learn.org/stable/modules/linear_model.html#logistic-regression\n",
      "  n_iter_i = _check_optimize_result(\n",
      "/home/omar/Python-3.8.0/jupyter_env/lib/python3.8/site-packages/sklearn/linear_model/_logistic.py:444: ConvergenceWarning: lbfgs failed to converge (status=1):\n",
      "STOP: TOTAL NO. of ITERATIONS REACHED LIMIT.\n",
      "\n",
      "Increase the number of iterations (max_iter) or scale the data as shown in:\n",
      "    https://scikit-learn.org/stable/modules/preprocessing.html\n",
      "Please also refer to the documentation for alternative solver options:\n",
      "    https://scikit-learn.org/stable/modules/linear_model.html#logistic-regression\n",
      "  n_iter_i = _check_optimize_result(\n",
      "/home/omar/Python-3.8.0/jupyter_env/lib/python3.8/site-packages/sklearn/linear_model/_logistic.py:444: ConvergenceWarning: lbfgs failed to converge (status=1):\n",
      "STOP: TOTAL NO. of ITERATIONS REACHED LIMIT.\n",
      "\n",
      "Increase the number of iterations (max_iter) or scale the data as shown in:\n",
      "    https://scikit-learn.org/stable/modules/preprocessing.html\n",
      "Please also refer to the documentation for alternative solver options:\n",
      "    https://scikit-learn.org/stable/modules/linear_model.html#logistic-regression\n",
      "  n_iter_i = _check_optimize_result(\n",
      "/home/omar/Python-3.8.0/jupyter_env/lib/python3.8/site-packages/sklearn/linear_model/_logistic.py:444: ConvergenceWarning: lbfgs failed to converge (status=1):\n",
      "STOP: TOTAL NO. of ITERATIONS REACHED LIMIT.\n",
      "\n",
      "Increase the number of iterations (max_iter) or scale the data as shown in:\n",
      "    https://scikit-learn.org/stable/modules/preprocessing.html\n",
      "Please also refer to the documentation for alternative solver options:\n",
      "    https://scikit-learn.org/stable/modules/linear_model.html#logistic-regression\n",
      "  n_iter_i = _check_optimize_result(\n",
      "/tmp/ipykernel_7046/355113265.py:15: FutureWarning: Dropping of nuisance columns in DataFrame reductions (with 'numeric_only=None') is deprecated; in a future version this will raise TypeError.  Select only valid columns before calling the reduction.\n",
      "  results_mean = list(results.mean().values)\n",
      "/tmp/ipykernel_7046/355113265.py:16: FutureWarning: Dropping of nuisance columns in DataFrame reductions (with 'numeric_only=None') is deprecated; in a future version this will raise TypeError.  Select only valid columns before calling the reduction.\n",
      "  results_std = list(results.std().values)\n"
     ]
    },
    {
     "data": {
      "text/html": [
       "<div>\n",
       "<style scoped>\n",
       "    .dataframe tbody tr th:only-of-type {\n",
       "        vertical-align: middle;\n",
       "    }\n",
       "\n",
       "    .dataframe tbody tr th {\n",
       "        vertical-align: top;\n",
       "    }\n",
       "\n",
       "    .dataframe thead th {\n",
       "        text-align: right;\n",
       "    }\n",
       "</style>\n",
       "<table border=\"1\" class=\"dataframe\">\n",
       "  <thead>\n",
       "    <tr style=\"text-align: right;\">\n",
       "      <th></th>\n",
       "      <th>Fit time (s)</th>\n",
       "      <th>Score time (s)</th>\n",
       "      <th>AUC ROC</th>\n",
       "      <th>Average Precision</th>\n",
       "      <th>Balanced accuracy</th>\n",
       "    </tr>\n",
       "  </thead>\n",
       "  <tbody>\n",
       "    <tr>\n",
       "      <th>Decision tree - Baseline</th>\n",
       "      <td>15.454+/-1.765</td>\n",
       "      <td>0.479+/-0.09</td>\n",
       "      <td>0.828+/-0.003</td>\n",
       "      <td>0.639+/-0.008</td>\n",
       "      <td>0.79+/-0.004</td>\n",
       "    </tr>\n",
       "    <tr>\n",
       "      <th>Decision tree - Cost-sensitive</th>\n",
       "      <td>19.026+/-3.016</td>\n",
       "      <td>0.605+/-0.062</td>\n",
       "      <td>0.869+/-0.007</td>\n",
       "      <td>0.636+/-0.011</td>\n",
       "      <td>0.853+/-0.01</td>\n",
       "    </tr>\n",
       "    <tr>\n",
       "      <th>Logistic regression - Cost-sensitive</th>\n",
       "      <td>37.46+/-2.721</td>\n",
       "      <td>0.787+/-0.121</td>\n",
       "      <td>0.894+/-0.003</td>\n",
       "      <td>0.505+/-0.005</td>\n",
       "      <td>0.864+/-0.002</td>\n",
       "    </tr>\n",
       "  </tbody>\n",
       "</table>\n",
       "</div>"
      ],
      "text/plain": [
       "                                        Fit time (s) Score time (s)  \\\n",
       "Decision tree - Baseline              15.454+/-1.765   0.479+/-0.09   \n",
       "Decision tree - Cost-sensitive        19.026+/-3.016  0.605+/-0.062   \n",
       "Logistic regression - Cost-sensitive   37.46+/-2.721  0.787+/-0.121   \n",
       "\n",
       "                                            AUC ROC Average Precision  \\\n",
       "Decision tree - Baseline              0.828+/-0.003     0.639+/-0.008   \n",
       "Decision tree - Cost-sensitive        0.869+/-0.007     0.636+/-0.011   \n",
       "Logistic regression - Cost-sensitive  0.894+/-0.003     0.505+/-0.005   \n",
       "\n",
       "                                     Balanced accuracy  \n",
       "Decision tree - Baseline                  0.79+/-0.004  \n",
       "Decision tree - Cost-sensitive            0.853+/-0.01  \n",
       "Logistic regression - Cost-sensitive     0.864+/-0.002  "
      ]
     },
     "execution_count": 42,
     "metadata": {},
     "output_type": "execute_result"
    }
   ],
   "source": [
    "classifier = LogisticRegression(C=1,class_weight={0:IR,1:1},random_state=0)\n",
    "\n",
    "results_df_dt_cost_sensitive_LR =  kfold_cv_with_classifier(classifier, X, y, n_splits=5, \n",
    "                                                         strategy_name=\"Logistic regression - Cost-sensitive\")\n",
    "\n",
    "pd.concat([results_df_dt_baseline, \n",
    "           results_df_dt_cost_sensitive,\n",
    "           results_df_dt_cost_sensitive_LR])"
   ]
  },
  {
   "cell_type": "markdown",
   "id": "c44457f6",
   "metadata": {},
   "source": [
    "## Resampling strategies"
   ]
  },
  {
   "cell_type": "code",
   "execution_count": 44,
   "id": "5fad0e22",
   "metadata": {
    "ExecuteTime": {
     "end_time": "2022-09-03T16:16:30.705431Z",
     "start_time": "2022-09-03T16:16:30.465447Z"
    }
   },
   "outputs": [],
   "source": [
    "\n",
    "# random_state is set to 0 for reproducibility\n",
    "ROS = RandomOverSampler(sampling_strategy=1, random_state=0)"
   ]
  },
  {
   "cell_type": "code",
   "execution_count": 51,
   "id": "7dfbf7d3",
   "metadata": {
    "ExecuteTime": {
     "end_time": "2022-09-03T16:17:52.532584Z",
     "start_time": "2022-09-03T16:17:50.074791Z"
    }
   },
   "outputs": [],
   "source": [
    "X_resampled, Y_resampled = ROS.fit_resample(X, y)\n"
   ]
  },
  {
   "cell_type": "code",
   "execution_count": 52,
   "id": "759c3b4b",
   "metadata": {
    "ExecuteTime": {
     "end_time": "2022-09-03T16:17:52.626769Z",
     "start_time": "2022-09-03T16:17:52.538937Z"
    }
   },
   "outputs": [
    {
     "data": {
      "text/plain": [
       "0    1748959\n",
       "1    1748959\n",
       "Name: TX_FRAUD, dtype: int64"
      ]
     },
     "execution_count": 52,
     "metadata": {},
     "output_type": "execute_result"
    }
   ],
   "source": [
    "Y_resampled.value_counts()"
   ]
  },
  {
   "cell_type": "code",
   "execution_count": 54,
   "id": "256deb21",
   "metadata": {
    "ExecuteTime": {
     "end_time": "2022-09-03T16:18:48.734892Z",
     "start_time": "2022-09-03T16:18:48.669914Z"
    }
   },
   "outputs": [],
   "source": [
    "def kfold_cv_with_sampler_and_classifier(classifier,\n",
    "                                         sampler_list,\n",
    "                                         X,\n",
    "                                         y,\n",
    "                                         n_splits=5,\n",
    "                                         strategy_name=\"Baseline classifier\"):\n",
    "    \n",
    "    # Create a pipeline with the list of samplers, and the estimator\n",
    "    estimators = sampler_list.copy()\n",
    "    estimators.extend([('clf', classifier)])\n",
    "    \n",
    "    pipe = Pipeline(estimators)\n",
    "    \n",
    "    cv = StratifiedKFold(n_splits=n_splits, shuffle=True, random_state=0)\n",
    "    \n",
    "    cv_results_ = cross_validate(pipe,X,y,cv=cv,\n",
    "                                                         scoring=['roc_auc',\n",
    "                                                                  'average_precision',\n",
    "                                                                  'balanced_accuracy'],\n",
    "                                                         return_estimator=True)\n",
    "    \n",
    "    results = round(pd.DataFrame(cv_results_),3)\n",
    "    results_mean = list(results.mean().values)\n",
    "    results_std = list(results.std().values)\n",
    "    results_df = pd.DataFrame([[str(round(results_mean[i],3))+'+/-'+\n",
    "                                str(round(results_std[i],3)) for i in range(len(results))]],\n",
    "                              columns=['Fit time (s)','Score time (s)',\n",
    "                                       'AUC ROC','Average Precision','Balanced accuracy'])\n",
    "    results_df.rename(index={0:strategy_name}, inplace=True)\n",
    "    \n",
    "    return results_df"
   ]
  },
  {
   "cell_type": "code",
   "execution_count": 55,
   "id": "03cc37b4",
   "metadata": {
    "ExecuteTime": {
     "end_time": "2022-09-03T16:21:13.036615Z",
     "start_time": "2022-09-03T16:18:58.464567Z"
    }
   },
   "outputs": [
    {
     "name": "stderr",
     "output_type": "stream",
     "text": [
      "/tmp/ipykernel_7046/1039580869.py:23: FutureWarning: Dropping of nuisance columns in DataFrame reductions (with 'numeric_only=None') is deprecated; in a future version this will raise TypeError.  Select only valid columns before calling the reduction.\n",
      "  results_mean = list(results.mean().values)\n",
      "/tmp/ipykernel_7046/1039580869.py:24: FutureWarning: Dropping of nuisance columns in DataFrame reductions (with 'numeric_only=None') is deprecated; in a future version this will raise TypeError.  Select only valid columns before calling the reduction.\n",
      "  results_std = list(results.std().values)\n"
     ]
    }
   ],
   "source": [
    "sampler_list = [('sampler',RandomOverSampler(sampling_strategy=1, random_state=0))]\n",
    "classifier = DecisionTreeClassifier(max_depth=5, random_state=0)\n",
    "\n",
    "results_df_ROS = kfold_cv_with_sampler_and_classifier(classifier, \n",
    "                                                    sampler_list, \n",
    "                                                    X, y, \n",
    "                                                    n_splits=5,\n",
    "                                                    strategy_name=\"Decision tree - ROS\")"
   ]
  },
  {
   "cell_type": "code",
   "execution_count": 56,
   "id": "cf60ea6f",
   "metadata": {
    "ExecuteTime": {
     "end_time": "2022-09-03T16:22:04.773193Z",
     "start_time": "2022-09-03T16:22:04.698470Z"
    }
   },
   "outputs": [
    {
     "data": {
      "text/html": [
       "<div>\n",
       "<style scoped>\n",
       "    .dataframe tbody tr th:only-of-type {\n",
       "        vertical-align: middle;\n",
       "    }\n",
       "\n",
       "    .dataframe tbody tr th {\n",
       "        vertical-align: top;\n",
       "    }\n",
       "\n",
       "    .dataframe thead th {\n",
       "        text-align: right;\n",
       "    }\n",
       "</style>\n",
       "<table border=\"1\" class=\"dataframe\">\n",
       "  <thead>\n",
       "    <tr style=\"text-align: right;\">\n",
       "      <th></th>\n",
       "      <th>Fit time (s)</th>\n",
       "      <th>Score time (s)</th>\n",
       "      <th>AUC ROC</th>\n",
       "      <th>Average Precision</th>\n",
       "      <th>Balanced accuracy</th>\n",
       "    </tr>\n",
       "  </thead>\n",
       "  <tbody>\n",
       "    <tr>\n",
       "      <th>Decision tree - Baseline</th>\n",
       "      <td>15.454+/-1.765</td>\n",
       "      <td>0.479+/-0.09</td>\n",
       "      <td>0.828+/-0.003</td>\n",
       "      <td>0.639+/-0.008</td>\n",
       "      <td>0.79+/-0.004</td>\n",
       "    </tr>\n",
       "    <tr>\n",
       "      <th>Decision tree - Cost-sensitive</th>\n",
       "      <td>19.026+/-3.016</td>\n",
       "      <td>0.605+/-0.062</td>\n",
       "      <td>0.869+/-0.007</td>\n",
       "      <td>0.636+/-0.011</td>\n",
       "      <td>0.853+/-0.01</td>\n",
       "    </tr>\n",
       "    <tr>\n",
       "      <th>Logistic regression - Cost-sensitive</th>\n",
       "      <td>37.46+/-2.721</td>\n",
       "      <td>0.787+/-0.121</td>\n",
       "      <td>0.894+/-0.003</td>\n",
       "      <td>0.505+/-0.005</td>\n",
       "      <td>0.864+/-0.002</td>\n",
       "    </tr>\n",
       "    <tr>\n",
       "      <th>Decision tree - ROS</th>\n",
       "      <td>26.296+/-1.863</td>\n",
       "      <td>0.482+/-0.018</td>\n",
       "      <td>0.87+/-0.008</td>\n",
       "      <td>0.638+/-0.008</td>\n",
       "      <td>0.853+/-0.009</td>\n",
       "    </tr>\n",
       "  </tbody>\n",
       "</table>\n",
       "</div>"
      ],
      "text/plain": [
       "                                        Fit time (s) Score time (s)  \\\n",
       "Decision tree - Baseline              15.454+/-1.765   0.479+/-0.09   \n",
       "Decision tree - Cost-sensitive        19.026+/-3.016  0.605+/-0.062   \n",
       "Logistic regression - Cost-sensitive   37.46+/-2.721  0.787+/-0.121   \n",
       "Decision tree - ROS                   26.296+/-1.863  0.482+/-0.018   \n",
       "\n",
       "                                            AUC ROC Average Precision  \\\n",
       "Decision tree - Baseline              0.828+/-0.003     0.639+/-0.008   \n",
       "Decision tree - Cost-sensitive        0.869+/-0.007     0.636+/-0.011   \n",
       "Logistic regression - Cost-sensitive  0.894+/-0.003     0.505+/-0.005   \n",
       "Decision tree - ROS                    0.87+/-0.008     0.638+/-0.008   \n",
       "\n",
       "                                     Balanced accuracy  \n",
       "Decision tree - Baseline                  0.79+/-0.004  \n",
       "Decision tree - Cost-sensitive            0.853+/-0.01  \n",
       "Logistic regression - Cost-sensitive     0.864+/-0.002  \n",
       "Decision tree - ROS                      0.853+/-0.009  "
      ]
     },
     "execution_count": 56,
     "metadata": {},
     "output_type": "execute_result"
    }
   ],
   "source": [
    "pd.concat([results_df_dt_baseline, \n",
    "           results_df_dt_cost_sensitive,\n",
    "           results_df_dt_cost_sensitive_LR,\n",
    "           results_df_ROS])"
   ]
  },
  {
   "cell_type": "code",
   "execution_count": null,
   "id": "af751eb4",
   "metadata": {},
   "outputs": [],
   "source": []
  }
 ],
 "metadata": {
  "kernelspec": {
   "display_name": "Python 3 (ipykernel)",
   "language": "python",
   "name": "python3"
  },
  "language_info": {
   "codemirror_mode": {
    "name": "ipython",
    "version": 3
   },
   "file_extension": ".py",
   "mimetype": "text/x-python",
   "name": "python",
   "nbconvert_exporter": "python",
   "pygments_lexer": "ipython3",
   "version": "3.8.0"
  },
  "latex_envs": {
   "LaTeX_envs_menu_present": true,
   "autoclose": false,
   "autocomplete": true,
   "bibliofile": "biblio.bib",
   "cite_by": "apalike",
   "current_citInitial": 1,
   "eqLabelWithNumbers": true,
   "eqNumInitial": 1,
   "hotkeys": {
    "equation": "Ctrl-E",
    "itemize": "Ctrl-I"
   },
   "labels_anchors": false,
   "latex_user_defs": false,
   "report_style_numbering": false,
   "user_envs_cfg": false
  }
 },
 "nbformat": 4,
 "nbformat_minor": 5
}
